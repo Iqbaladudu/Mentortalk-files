{
 "cells": [
  {
   "cell_type": "markdown",
   "id": "8861deff",
   "metadata": {},
   "source": [
    "Modify Mutable Elements in Tuple"
   ]
  },
  {
   "cell_type": "code",
   "execution_count": 1,
   "id": "eff34a9b",
   "metadata": {},
   "outputs": [
    {
     "ename": "TypeError",
     "evalue": "'tuple' object does not support item assignment",
     "output_type": "error",
     "traceback": [
      "\u001b[0;31m---------------------------------------------------------------------------\u001b[0m",
      "\u001b[0;31mTypeError\u001b[0m                                 Traceback (most recent call last)",
      "\u001b[0;32m/tmp/ipykernel_7808/155653744.py\u001b[0m in \u001b[0;36m<module>\u001b[0;34m\u001b[0m\n\u001b[1;32m      1\u001b[0m \u001b[0mtup\u001b[0m \u001b[0;34m=\u001b[0m \u001b[0;34m(\u001b[0m\u001b[0;36m1\u001b[0m\u001b[0;34m,\u001b[0m \u001b[0;36m2\u001b[0m\u001b[0;34m,\u001b[0m \u001b[0;36m3\u001b[0m\u001b[0;34m,\u001b[0m \u001b[0;36m4\u001b[0m\u001b[0;34m,\u001b[0m \u001b[0;36m5\u001b[0m\u001b[0;34m)\u001b[0m\u001b[0;34m\u001b[0m\u001b[0;34m\u001b[0m\u001b[0m\n\u001b[0;32m----> 2\u001b[0;31m \u001b[0mtup\u001b[0m\u001b[0;34m[\u001b[0m\u001b[0;36m1\u001b[0m\u001b[0;34m]\u001b[0m \u001b[0;34m=\u001b[0m \u001b[0;36m1\u001b[0m\u001b[0;34m\u001b[0m\u001b[0;34m\u001b[0m\u001b[0m\n\u001b[0m",
      "\u001b[0;31mTypeError\u001b[0m: 'tuple' object does not support item assignment"
     ]
    }
   ],
   "source": [
    "tup = (1, 2, 3, 4, 5)\n",
    "tup[1] = 1"
   ]
  },
  {
   "cell_type": "code",
   "execution_count": 2,
   "id": "a37a1538",
   "metadata": {},
   "outputs": [],
   "source": [
    "my_tup = (1, 2, 3, [\"Indonesia\", \"Ai\"])\n",
    "my_tup[3].append(\"Machine Learning\")"
   ]
  },
  {
   "cell_type": "code",
   "execution_count": 3,
   "id": "89cf45af",
   "metadata": {},
   "outputs": [
    {
     "data": {
      "text/plain": [
       "(1, 2, 3, ['Indonesia', 'Ai', 'Machine Learning'])"
      ]
     },
     "execution_count": 3,
     "metadata": {},
     "output_type": "execute_result"
    }
   ],
   "source": [
    "my_tup"
   ]
  },
  {
   "cell_type": "markdown",
   "id": "d1fb3b05",
   "metadata": {},
   "source": [
    "Unpacking Tuple"
   ]
  },
  {
   "cell_type": "code",
   "execution_count": 4,
   "id": "a4550e17",
   "metadata": {},
   "outputs": [],
   "source": [
    "tup = (\"Indonesia\", \"Ai\", \"Machine Learning\")"
   ]
  },
  {
   "cell_type": "code",
   "execution_count": 5,
   "id": "cc1701b6",
   "metadata": {},
   "outputs": [],
   "source": [
    "country, tech, tech2 = tup"
   ]
  },
  {
   "cell_type": "code",
   "execution_count": 6,
   "id": "8e82f8e3",
   "metadata": {},
   "outputs": [
    {
     "data": {
      "text/plain": [
       "'Indonesia'"
      ]
     },
     "execution_count": 6,
     "metadata": {},
     "output_type": "execute_result"
    }
   ],
   "source": [
    "country"
   ]
  },
  {
   "cell_type": "code",
   "execution_count": 7,
   "id": "9523a1fc",
   "metadata": {},
   "outputs": [],
   "source": [
    "tup = (\"Indonesia\", (\"AI\", \"Machine Learning\"))"
   ]
  },
  {
   "cell_type": "code",
   "execution_count": 8,
   "id": "b138603d",
   "metadata": {},
   "outputs": [],
   "source": [
    "country, (tech1, tech2) = tup"
   ]
  },
  {
   "cell_type": "code",
   "execution_count": 9,
   "id": "51228c4d",
   "metadata": {},
   "outputs": [
    {
     "data": {
      "text/plain": [
       "'AI'"
      ]
     },
     "execution_count": 9,
     "metadata": {},
     "output_type": "execute_result"
    }
   ],
   "source": [
    "tech1"
   ]
  },
  {
   "cell_type": "markdown",
   "id": "61fdf6e2",
   "metadata": {},
   "source": [
    "*Rest"
   ]
  },
  {
   "cell_type": "code",
   "execution_count": 10,
   "id": "3934773e",
   "metadata": {},
   "outputs": [],
   "source": [
    "tup = (1, 2, 3, 4, 5)"
   ]
  },
  {
   "cell_type": "code",
   "execution_count": 11,
   "id": "cdd96f35",
   "metadata": {},
   "outputs": [],
   "source": [
    "a, b, *rest = tup"
   ]
  },
  {
   "cell_type": "code",
   "execution_count": 12,
   "id": "8acaa71a",
   "metadata": {},
   "outputs": [
    {
     "data": {
      "text/plain": [
       "1"
      ]
     },
     "execution_count": 12,
     "metadata": {},
     "output_type": "execute_result"
    }
   ],
   "source": [
    "a"
   ]
  },
  {
   "cell_type": "code",
   "execution_count": 13,
   "id": "7f9dd692",
   "metadata": {},
   "outputs": [
    {
     "data": {
      "text/plain": [
       "[3, 4, 5]"
      ]
     },
     "execution_count": 13,
     "metadata": {},
     "output_type": "execute_result"
    }
   ],
   "source": [
    "rest"
   ]
  },
  {
   "cell_type": "markdown",
   "id": "c8ec8427",
   "metadata": {},
   "source": [
    "Insert List"
   ]
  },
  {
   "cell_type": "code",
   "execution_count": 14,
   "id": "c7e8689a",
   "metadata": {},
   "outputs": [
    {
     "data": {
      "text/plain": [
       "['First', 1, 2, 3, 4, 5, 6]"
      ]
     },
     "execution_count": 14,
     "metadata": {},
     "output_type": "execute_result"
    }
   ],
   "source": [
    "my_li = [1, 2, 3, 4, 5, 6]\n",
    "my_li.insert(0, \"First\")\n",
    "my_li"
   ]
  },
  {
   "cell_type": "markdown",
   "id": "9e64244d",
   "metadata": {},
   "source": [
    "Checking list"
   ]
  },
  {
   "cell_type": "code",
   "execution_count": 15,
   "id": "5de49f0b",
   "metadata": {},
   "outputs": [
    {
     "data": {
      "text/plain": [
       "True"
      ]
     },
     "execution_count": 15,
     "metadata": {},
     "output_type": "execute_result"
    }
   ],
   "source": [
    "'First' in my_li"
   ]
  },
  {
   "cell_type": "markdown",
   "id": "4ff8fd84",
   "metadata": {},
   "source": [
    "Extend"
   ]
  },
  {
   "cell_type": "code",
   "execution_count": 16,
   "id": "4bc2df00",
   "metadata": {},
   "outputs": [],
   "source": [
    "x = [4, None, 'foo']\n",
    "y = [\"Good\", \"Hello\"]\n",
    "x.extend(y)"
   ]
  },
  {
   "cell_type": "code",
   "execution_count": 17,
   "id": "0c7c37f1",
   "metadata": {},
   "outputs": [
    {
     "data": {
      "text/plain": [
       "[4, None, 'foo', 'Good', 'Hello']"
      ]
     },
     "execution_count": 17,
     "metadata": {},
     "output_type": "execute_result"
    }
   ],
   "source": [
    "x"
   ]
  },
  {
   "cell_type": "markdown",
   "id": "359927d5",
   "metadata": {},
   "source": [
    "Sorting"
   ]
  },
  {
   "cell_type": "code",
   "execution_count": 18,
   "id": "6db545d6",
   "metadata": {},
   "outputs": [],
   "source": [
    "a = [7, 2, 5, 1, 3]\n",
    "a.sort()"
   ]
  },
  {
   "cell_type": "code",
   "execution_count": 19,
   "id": "ddac6c64",
   "metadata": {},
   "outputs": [
    {
     "data": {
      "text/plain": [
       "[1, 2, 3, 5, 7]"
      ]
     },
     "execution_count": 19,
     "metadata": {},
     "output_type": "execute_result"
    }
   ],
   "source": [
    "a"
   ]
  },
  {
   "cell_type": "markdown",
   "id": "55516333",
   "metadata": {},
   "source": [
    "Binary Search"
   ]
  },
  {
   "cell_type": "code",
   "execution_count": 23,
   "id": "6319efe3",
   "metadata": {},
   "outputs": [],
   "source": [
    "import bisect"
   ]
  },
  {
   "cell_type": "code",
   "execution_count": 24,
   "id": "70d406af",
   "metadata": {},
   "outputs": [],
   "source": [
    "c = [1, 2, 2, 2, 3, 4, 7]"
   ]
  },
  {
   "cell_type": "code",
   "execution_count": 25,
   "id": "7215355d",
   "metadata": {},
   "outputs": [
    {
     "data": {
      "text/plain": [
       "7"
      ]
     },
     "execution_count": 25,
     "metadata": {},
     "output_type": "execute_result"
    }
   ],
   "source": [
    "bisect.bisect(c, 10)"
   ]
  },
  {
   "cell_type": "markdown",
   "id": "d14abe74",
   "metadata": {},
   "source": [
    "Insort"
   ]
  },
  {
   "cell_type": "code",
   "execution_count": 26,
   "id": "a10b14ea",
   "metadata": {},
   "outputs": [],
   "source": [
    "bisect.insort(c, 0)"
   ]
  },
  {
   "cell_type": "code",
   "execution_count": 27,
   "id": "9f8856f1",
   "metadata": {},
   "outputs": [
    {
     "data": {
      "text/plain": [
       "[0, 1, 2, 2, 2, 3, 4, 7]"
      ]
     },
     "execution_count": 27,
     "metadata": {},
     "output_type": "execute_result"
    }
   ],
   "source": [
    "c"
   ]
  },
  {
   "cell_type": "code",
   "execution_count": 28,
   "id": "0b3376ab",
   "metadata": {},
   "outputs": [],
   "source": [
    "bisect.insort(c, 5)"
   ]
  },
  {
   "cell_type": "code",
   "execution_count": 29,
   "id": "502175a3",
   "metadata": {},
   "outputs": [
    {
     "data": {
      "text/plain": [
       "[0, 1, 2, 2, 2, 3, 4, 5, 7]"
      ]
     },
     "execution_count": 29,
     "metadata": {},
     "output_type": "execute_result"
    }
   ],
   "source": [
    "c"
   ]
  },
  {
   "cell_type": "markdown",
   "id": "5b9355ab",
   "metadata": {},
   "source": [
    "Sorted"
   ]
  },
  {
   "cell_type": "code",
   "execution_count": 30,
   "id": "cd1dffdf",
   "metadata": {},
   "outputs": [
    {
     "data": {
      "text/plain": [
       "[0, 1, 2, 2, 3, 6, 7]"
      ]
     },
     "execution_count": 30,
     "metadata": {},
     "output_type": "execute_result"
    }
   ],
   "source": [
    "sorted([7, 1, 2, 6, 0, 3, 2])"
   ]
  },
  {
   "cell_type": "code",
   "execution_count": 31,
   "id": "f42d4da0",
   "metadata": {},
   "outputs": [
    {
     "data": {
      "text/plain": [
       "['.', 'I', 'a', 'a', 'd', 'e', 'i', 'i', 'n', 'n', 'o', 's']"
      ]
     },
     "execution_count": 31,
     "metadata": {},
     "output_type": "execute_result"
    }
   ],
   "source": [
    "sorted('Indonesia.ai')"
   ]
  },
  {
   "cell_type": "markdown",
   "id": "eee1a546",
   "metadata": {},
   "source": [
    "Zip"
   ]
  },
  {
   "cell_type": "code",
   "execution_count": 32,
   "id": "4b2b0651",
   "metadata": {},
   "outputs": [],
   "source": [
    "seq1 = ['foo', 'bar', 'baz']\n",
    "seq2 = ['one', 'two', 'three']\n",
    "zipped = zip(seq1, seq2)"
   ]
  },
  {
   "cell_type": "code",
   "execution_count": 35,
   "id": "c1783321",
   "metadata": {},
   "outputs": [
    {
     "data": {
      "text/plain": [
       "[('foo', 'one'), ('bar', 'two'), ('baz', 'three')]"
      ]
     },
     "execution_count": 35,
     "metadata": {},
     "output_type": "execute_result"
    }
   ],
   "source": [
    "list(zipped)"
   ]
  },
  {
   "cell_type": "markdown",
   "id": "03eb3428",
   "metadata": {},
   "source": [
    "Unzip"
   ]
  },
  {
   "cell_type": "code",
   "execution_count": 36,
   "id": "d4ca318e",
   "metadata": {},
   "outputs": [],
   "source": [
    "pitchers = [('Nolan', 'Ryan'), ('Roger', 'Clemens'),\n",
    "('Schilling', 'Curt')]"
   ]
  },
  {
   "cell_type": "code",
   "execution_count": 37,
   "id": "38a71a5c",
   "metadata": {},
   "outputs": [],
   "source": [
    "first_name, last_name = zip(*pitchers)"
   ]
  },
  {
   "cell_type": "code",
   "execution_count": 38,
   "id": "b6f4e064",
   "metadata": {},
   "outputs": [
    {
     "data": {
      "text/plain": [
       "('Nolan', 'Roger', 'Schilling')"
      ]
     },
     "execution_count": 38,
     "metadata": {},
     "output_type": "execute_result"
    }
   ],
   "source": [
    "first_name"
   ]
  },
  {
   "cell_type": "code",
   "execution_count": 39,
   "id": "9561fe8d",
   "metadata": {},
   "outputs": [
    {
     "data": {
      "text/plain": [
       "('Ryan', 'Clemens', 'Curt')"
      ]
     },
     "execution_count": 39,
     "metadata": {},
     "output_type": "execute_result"
    }
   ],
   "source": [
    "last_name"
   ]
  },
  {
   "cell_type": "markdown",
   "id": "73b1701a",
   "metadata": {},
   "source": [
    "Reversed"
   ]
  },
  {
   "cell_type": "code",
   "execution_count": 40,
   "id": "e7d881f0",
   "metadata": {},
   "outputs": [],
   "source": [
    "li = reversed(range(10))"
   ]
  },
  {
   "cell_type": "code",
   "execution_count": 42,
   "id": "81d82e25",
   "metadata": {},
   "outputs": [
    {
     "data": {
      "text/plain": [
       "[9, 8, 7, 6, 5, 4, 3, 2, 1, 0]"
      ]
     },
     "execution_count": 42,
     "metadata": {},
     "output_type": "execute_result"
    }
   ],
   "source": [
    "list(li)"
   ]
  },
  {
   "cell_type": "markdown",
   "id": "baf6becd",
   "metadata": {},
   "source": [
    "Dict"
   ]
  },
  {
   "cell_type": "code",
   "execution_count": 43,
   "id": "1b0d319c",
   "metadata": {},
   "outputs": [
    {
     "data": {
      "text/plain": [
       "True"
      ]
     },
     "execution_count": 43,
     "metadata": {},
     "output_type": "execute_result"
    }
   ],
   "source": [
    "d1 = {'a' : 'some value', 'b' : [1, 2, 3, 4]}\n",
    "'a' in d1"
   ]
  },
  {
   "cell_type": "markdown",
   "id": "f0cd586b",
   "metadata": {},
   "source": [
    "Creating dict from list"
   ]
  },
  {
   "cell_type": "code",
   "execution_count": 44,
   "id": "d309e143",
   "metadata": {},
   "outputs": [],
   "source": [
    "profile = [\"Nama\", \"Alamat\"]\n",
    "data = [\"Iqbal\", \"Darosah\"]\n",
    "new_dict = {}\n",
    "for k, v in zip(profile, data):\n",
    "    new_dict[k] = v"
   ]
  },
  {
   "cell_type": "code",
   "execution_count": 45,
   "id": "865c6216",
   "metadata": {},
   "outputs": [
    {
     "data": {
      "text/plain": [
       "{'Nama': 'Iqbal', 'Alamat': 'Darosah'}"
      ]
     },
     "execution_count": 45,
     "metadata": {},
     "output_type": "execute_result"
    }
   ],
   "source": [
    "new_dict"
   ]
  },
  {
   "cell_type": "code",
   "execution_count": 46,
   "id": "fada7b68",
   "metadata": {},
   "outputs": [],
   "source": [
    "words = ['Kelelawar', 'Apel', 'Atom', 'Truk', 'Komputer', 'Ayam']"
   ]
  },
  {
   "cell_type": "code",
   "execution_count": 47,
   "id": "aca87722",
   "metadata": {},
   "outputs": [],
   "source": [
    "new_dict = {}\n",
    "for word in words:\n",
    "    key = word[0]\n",
    "    new_dict.setdefault(key, []).append(word)"
   ]
  },
  {
   "cell_type": "code",
   "execution_count": 48,
   "id": "9e5c80bf",
   "metadata": {},
   "outputs": [
    {
     "data": {
      "text/plain": [
       "{'K': ['Kelelawar', 'Komputer'], 'A': ['Apel', 'Atom', 'Ayam'], 'T': ['Truk']}"
      ]
     },
     "execution_count": 48,
     "metadata": {},
     "output_type": "execute_result"
    }
   ],
   "source": [
    "new_dict"
   ]
  },
  {
   "cell_type": "markdown",
   "id": "2b74e608",
   "metadata": {},
   "source": [
    "Import from defaultdict"
   ]
  },
  {
   "cell_type": "code",
   "execution_count": 49,
   "id": "9e092233",
   "metadata": {},
   "outputs": [],
   "source": [
    "from collections import defaultdict "
   ]
  },
  {
   "cell_type": "code",
   "execution_count": 50,
   "id": "baa81994",
   "metadata": {},
   "outputs": [],
   "source": [
    "new_dict = defaultdict(list)"
   ]
  },
  {
   "cell_type": "code",
   "execution_count": 51,
   "id": "a64307bb",
   "metadata": {},
   "outputs": [],
   "source": [
    "for word in words:\n",
    "    new_dict[word[0]].append(word)"
   ]
  },
  {
   "cell_type": "code",
   "execution_count": 52,
   "id": "8400e4fa",
   "metadata": {},
   "outputs": [
    {
     "data": {
      "text/plain": [
       "defaultdict(list,\n",
       "            {'K': ['Kelelawar', 'Komputer'],\n",
       "             'A': ['Apel', 'Atom', 'Ayam'],\n",
       "             'T': ['Truk']})"
      ]
     },
     "execution_count": 52,
     "metadata": {},
     "output_type": "execute_result"
    }
   ],
   "source": [
    "new_dict"
   ]
  },
  {
   "cell_type": "code",
   "execution_count": 55,
   "id": "18cb2c67",
   "metadata": {},
   "outputs": [
    {
     "data": {
      "text/plain": [
       "{'K': ['Kelelawar', 'Komputer'], 'A': ['Apel', 'Atom', 'Ayam'], 'T': ['Truk']}"
      ]
     },
     "execution_count": 55,
     "metadata": {},
     "output_type": "execute_result"
    }
   ],
   "source": [
    "dict(new_dict)"
   ]
  },
  {
   "cell_type": "markdown",
   "id": "bf6edba6",
   "metadata": {},
   "source": [
    "List Comprehensions"
   ]
  },
  {
   "cell_type": "code",
   "execution_count": 56,
   "id": "234887ff",
   "metadata": {},
   "outputs": [],
   "source": [
    "strings = ['a', 'as', 'bat', 'car', 'python']\n",
    "new_strings = [x.upper() for x in strings if len(x) > 2]"
   ]
  },
  {
   "cell_type": "code",
   "execution_count": 57,
   "id": "8450416d",
   "metadata": {},
   "outputs": [
    {
     "data": {
      "text/plain": [
       "['BAT', 'CAR', 'PYTHON']"
      ]
     },
     "execution_count": 57,
     "metadata": {},
     "output_type": "execute_result"
    }
   ],
   "source": [
    "new_strings"
   ]
  },
  {
   "cell_type": "code",
   "execution_count": 58,
   "id": "db2299fe",
   "metadata": {},
   "outputs": [],
   "source": [
    "text = \"Indonesia.Ai\""
   ]
  },
  {
   "cell_type": "code",
   "execution_count": 59,
   "id": "9ef40e02",
   "metadata": {},
   "outputs": [],
   "source": [
    "new_strings2 = [x for x in text]"
   ]
  },
  {
   "cell_type": "code",
   "execution_count": 60,
   "id": "fc37e7e1",
   "metadata": {},
   "outputs": [
    {
     "data": {
      "text/plain": [
       "['I', 'n', 'd', 'o', 'n', 'e', 's', 'i', 'a', '.', 'A', 'i']"
      ]
     },
     "execution_count": 60,
     "metadata": {},
     "output_type": "execute_result"
    }
   ],
   "source": [
    "new_strings2"
   ]
  },
  {
   "cell_type": "code",
   "execution_count": 61,
   "id": "877423bb",
   "metadata": {},
   "outputs": [],
   "source": [
    "all_data = [['John', 'Emily', 'Michael', 'Mary',\n",
    "'Steven'],['Maria', 'Juan', 'Javier', 'Natalia', 'Pilar']]"
   ]
  },
  {
   "cell_type": "code",
   "execution_count": 62,
   "id": "cba7ff81",
   "metadata": {},
   "outputs": [],
   "source": [
    "result = [name for names in all_data for name in names if\n",
    "name.count('e') >= 2]"
   ]
  },
  {
   "cell_type": "code",
   "execution_count": 63,
   "id": "5bb8b433",
   "metadata": {},
   "outputs": [
    {
     "data": {
      "text/plain": [
       "['Steven']"
      ]
     },
     "execution_count": 63,
     "metadata": {},
     "output_type": "execute_result"
    }
   ],
   "source": [
    "result"
   ]
  },
  {
   "cell_type": "code",
   "execution_count": 65,
   "id": "b9500b7d",
   "metadata": {},
   "outputs": [],
   "source": [
    "some_tuples = [(1, 2, 3), (4, 5, 6), (7, 8, 9)]\n",
    "result = [[x for x in tup] for tup in some_tuples]"
   ]
  },
  {
   "cell_type": "code",
   "execution_count": 66,
   "id": "06d90528",
   "metadata": {},
   "outputs": [
    {
     "data": {
      "text/plain": [
       "[[1, 2, 3], [4, 5, 6], [7, 8, 9]]"
      ]
     },
     "execution_count": 66,
     "metadata": {},
     "output_type": "execute_result"
    }
   ],
   "source": [
    "result"
   ]
  },
  {
   "cell_type": "markdown",
   "id": "1ef29a33",
   "metadata": {},
   "source": [
    "Set Comprehensions"
   ]
  },
  {
   "cell_type": "code",
   "execution_count": 68,
   "id": "22a85e05",
   "metadata": {},
   "outputs": [],
   "source": [
    "strings = ['a', 'as', 'bat', 'car', 'dove', 'python']\n",
    "unique_length = {len(x) for x in strings}"
   ]
  },
  {
   "cell_type": "code",
   "execution_count": 74,
   "id": "6b594313",
   "metadata": {},
   "outputs": [
    {
     "data": {
      "text/plain": [
       "{1, 2, 3, 4, 6}"
      ]
     },
     "execution_count": 74,
     "metadata": {},
     "output_type": "execute_result"
    }
   ],
   "source": [
    "unique_length"
   ]
  },
  {
   "cell_type": "markdown",
   "id": "2b1d6518",
   "metadata": {},
   "source": [
    "Dict Comprehensions"
   ]
  },
  {
   "cell_type": "code",
   "execution_count": 71,
   "id": "effef8ca",
   "metadata": {},
   "outputs": [],
   "source": [
    "profile_form = [\"Nama\", \"Alamat\"]\n",
    "data = [\"Muhammad Iqbal\", \"Darosah\"]"
   ]
  },
  {
   "cell_type": "code",
   "execution_count": 72,
   "id": "efe0608e",
   "metadata": {},
   "outputs": [],
   "source": [
    "my_profile = {key : value for key, value in zip(profile_form, data)}"
   ]
  },
  {
   "cell_type": "code",
   "execution_count": 73,
   "id": "8a6c9188",
   "metadata": {},
   "outputs": [
    {
     "data": {
      "text/plain": [
       "{'Nama': 'Muhammad Iqbal', 'Alamat': 'Darosah'}"
      ]
     },
     "execution_count": 73,
     "metadata": {},
     "output_type": "execute_result"
    }
   ],
   "source": [
    "my_profile"
   ]
  },
  {
   "cell_type": "code",
   "execution_count": 75,
   "id": "339e9b46",
   "metadata": {},
   "outputs": [],
   "source": [
    "profile = [\"Nama\", \"Alamat\"]\n",
    "data = [[\"Muhammad Iqbal\", \"Budi\"], [\"Darosah\", \"Asher\"]]"
   ]
  },
  {
   "cell_type": "code",
   "execution_count": 76,
   "id": "69cb8b92",
   "metadata": {},
   "outputs": [],
   "source": [
    "profile_data = {key: [value for value in values] for key, values in zip(profile, data)}"
   ]
  },
  {
   "cell_type": "code",
   "execution_count": 77,
   "id": "05ee6da7",
   "metadata": {},
   "outputs": [
    {
     "data": {
      "text/plain": [
       "{'Nama': ['Muhammad Iqbal', 'Budi'], 'Alamat': ['Darosah', 'Asher']}"
      ]
     },
     "execution_count": 77,
     "metadata": {},
     "output_type": "execute_result"
    }
   ],
   "source": [
    "profile_data"
   ]
  },
  {
   "cell_type": "code",
   "execution_count": null,
   "id": "30a731bf",
   "metadata": {},
   "outputs": [],
   "source": []
  }
 ],
 "metadata": {
  "kernelspec": {
   "display_name": "Python 3 (ipykernel)",
   "language": "python",
   "name": "python3"
  },
  "language_info": {
   "codemirror_mode": {
    "name": "ipython",
    "version": 3
   },
   "file_extension": ".py",
   "mimetype": "text/x-python",
   "name": "python",
   "nbconvert_exporter": "python",
   "pygments_lexer": "ipython3",
   "version": "3.9.6"
  }
 },
 "nbformat": 4,
 "nbformat_minor": 5
}
