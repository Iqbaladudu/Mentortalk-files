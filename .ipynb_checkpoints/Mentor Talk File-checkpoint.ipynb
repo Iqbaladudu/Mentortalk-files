{
 "cells": [
  {
   "cell_type": "markdown",
   "id": "795ce037",
   "metadata": {},
   "source": [
    "Modify Mutable Elements in Tuple"
   ]
  },
  {
   "cell_type": "code",
   "execution_count": 1,
   "id": "bb2de0b8",
   "metadata": {},
   "outputs": [
    {
     "ename": "TypeError",
     "evalue": "'tuple' object does not support item assignment",
     "output_type": "error",
     "traceback": [
      "\u001b[0;31m---------------------------------------------------------------------------\u001b[0m",
      "\u001b[0;31mTypeError\u001b[0m                                 Traceback (most recent call last)",
      "\u001b[0;32m/tmp/ipykernel_7808/155653744.py\u001b[0m in \u001b[0;36m<module>\u001b[0;34m\u001b[0m\n\u001b[1;32m      1\u001b[0m \u001b[0mtup\u001b[0m \u001b[0;34m=\u001b[0m \u001b[0;34m(\u001b[0m\u001b[0;36m1\u001b[0m\u001b[0;34m,\u001b[0m \u001b[0;36m2\u001b[0m\u001b[0;34m,\u001b[0m \u001b[0;36m3\u001b[0m\u001b[0;34m,\u001b[0m \u001b[0;36m4\u001b[0m\u001b[0;34m,\u001b[0m \u001b[0;36m5\u001b[0m\u001b[0;34m)\u001b[0m\u001b[0;34m\u001b[0m\u001b[0;34m\u001b[0m\u001b[0m\n\u001b[0;32m----> 2\u001b[0;31m \u001b[0mtup\u001b[0m\u001b[0;34m[\u001b[0m\u001b[0;36m1\u001b[0m\u001b[0;34m]\u001b[0m \u001b[0;34m=\u001b[0m \u001b[0;36m1\u001b[0m\u001b[0;34m\u001b[0m\u001b[0;34m\u001b[0m\u001b[0m\n\u001b[0m",
      "\u001b[0;31mTypeError\u001b[0m: 'tuple' object does not support item assignment"
     ]
    }
   ],
   "source": [
    "tup = (1, 2, 3, 4, 5)\n",
    "tup[1] = 1"
   ]
  },
  {
   "cell_type": "code",
   "execution_count": 2,
   "id": "2263dd52",
   "metadata": {},
   "outputs": [],
   "source": [
    "my_tup = (1, 2, 3, [\"Indonesia\", \"Ai\"])\n",
    "my_tup[3].append(\"Machine Learning\")"
   ]
  },
  {
   "cell_type": "code",
   "execution_count": 3,
   "id": "5f40a755",
   "metadata": {},
   "outputs": [
    {
     "data": {
      "text/plain": [
       "(1, 2, 3, ['Indonesia', 'Ai', 'Machine Learning'])"
      ]
     },
     "execution_count": 3,
     "metadata": {},
     "output_type": "execute_result"
    }
   ],
   "source": [
    "my_tup"
   ]
  },
  {
   "cell_type": "markdown",
   "id": "5ea144d2",
   "metadata": {},
   "source": [
    "Unpacking Tuple"
   ]
  },
  {
   "cell_type": "code",
   "execution_count": 4,
   "id": "0fe7f7cf",
   "metadata": {},
   "outputs": [],
   "source": [
    "tup = (\"Indonesia\", \"Ai\", \"Machine Learning\")"
   ]
  },
  {
   "cell_type": "code",
   "execution_count": 5,
   "id": "2d398f22",
   "metadata": {},
   "outputs": [],
   "source": [
    "country, tech, tech2 = tup"
   ]
  },
  {
   "cell_type": "code",
   "execution_count": 6,
   "id": "203bdd9e",
   "metadata": {},
   "outputs": [
    {
     "data": {
      "text/plain": [
       "'Indonesia'"
      ]
     },
     "execution_count": 6,
     "metadata": {},
     "output_type": "execute_result"
    }
   ],
   "source": [
    "country"
   ]
  },
  {
   "cell_type": "code",
   "execution_count": 7,
   "id": "69afa5e1",
   "metadata": {},
   "outputs": [],
   "source": [
    "tup = (\"Indonesia\", (\"AI\", \"Machine Learning\"))"
   ]
  },
  {
   "cell_type": "code",
   "execution_count": 8,
   "id": "3395ff11",
   "metadata": {},
   "outputs": [],
   "source": [
    "country, (tech1, tech2) = tup"
   ]
  },
  {
   "cell_type": "code",
   "execution_count": 9,
   "id": "dc7d5bc9",
   "metadata": {},
   "outputs": [
    {
     "data": {
      "text/plain": [
       "'AI'"
      ]
     },
     "execution_count": 9,
     "metadata": {},
     "output_type": "execute_result"
    }
   ],
   "source": [
    "tech1"
   ]
  },
  {
   "cell_type": "markdown",
   "id": "a180290b",
   "metadata": {},
   "source": [
    "*Rest"
   ]
  },
  {
   "cell_type": "code",
   "execution_count": 10,
   "id": "5f838187",
   "metadata": {},
   "outputs": [],
   "source": [
    "tup = (1, 2, 3, 4, 5)"
   ]
  },
  {
   "cell_type": "code",
   "execution_count": 11,
   "id": "644ef0c0",
   "metadata": {},
   "outputs": [],
   "source": [
    "a, b, *rest = tup"
   ]
  },
  {
   "cell_type": "code",
   "execution_count": 12,
   "id": "e9ba56ab",
   "metadata": {},
   "outputs": [
    {
     "data": {
      "text/plain": [
       "1"
      ]
     },
     "execution_count": 12,
     "metadata": {},
     "output_type": "execute_result"
    }
   ],
   "source": [
    "a"
   ]
  },
  {
   "cell_type": "code",
   "execution_count": 13,
   "id": "3774ce20",
   "metadata": {},
   "outputs": [
    {
     "data": {
      "text/plain": [
       "[3, 4, 5]"
      ]
     },
     "execution_count": 13,
     "metadata": {},
     "output_type": "execute_result"
    }
   ],
   "source": [
    "rest"
   ]
  },
  {
   "cell_type": "markdown",
   "id": "09e6daec",
   "metadata": {},
   "source": [
    "Insert List"
   ]
  },
  {
   "cell_type": "code",
   "execution_count": null,
   "id": "fb3aba72",
   "metadata": {},
   "outputs": [],
   "source": [
    "my_li = [1, 2, 3, 4, 5, 6]\n",
    "my_li.insert(0, \"First\")\n",
    "my_li"
   ]
  }
 ],
 "metadata": {
  "kernelspec": {
   "display_name": "Python 3 (ipykernel)",
   "language": "python",
   "name": "python3"
  },
  "language_info": {
   "codemirror_mode": {
    "name": "ipython",
    "version": 3
   },
   "file_extension": ".py",
   "mimetype": "text/x-python",
   "name": "python",
   "nbconvert_exporter": "python",
   "pygments_lexer": "ipython3",
   "version": "3.9.6"
  }
 },
 "nbformat": 4,
 "nbformat_minor": 5
}
